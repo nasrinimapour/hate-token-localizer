```python
from src.tokenizer import VQGANTokenizer
from src.hate_embeddings import HatePromptEncoder
from src.localizer import HateLocalizer
from src.visualize import visualize_boxes
from PIL import Image

# Load components
tokenizer = VQGANTokenizer("configs/vqgan.yaml", "vqgan.ckpt")
encoder = HatePromptEncoder(["kkk symbol", "hate graffiti"])
localizer = HateLocalizer(tokenizer, encoder)

# Load image
img = Image.open("test.jpg").convert("RGB")
results = localizer.localize(img)
visualize_boxes(img, results["boxes"]).show()
```

---
